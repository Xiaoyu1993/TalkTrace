{
 "cells": [
  {
   "cell_type": "code",
   "execution_count": null,
   "metadata": {},
   "outputs": [],
   "source": [
    "import csv\n",
    "import spacy\n",
    "from spacy import displacy\n",
    "\n",
    "#load data\n",
    "file = open(\"newdataset_formatted.csv\", \"r\")\n",
    "reader = csv.reader(file)\n",
    "\n",
    "sentence = []\n",
    "for item in reader:\n",
    "    fullS = \"\".join(item)\n",
    "    splitS = fullS.split(\";\", 3);\n",
    "    sentence.append(splitS[3][1:len(splitS[3])])#store the sentence into an array\n",
    "\n",
    "file.close()\n",
    "print(\"Total sentences: \" + str(len(sentence)))\n",
    "#print(sentence)\n",
    "\n",
    "#parse sentence\n",
    "nlp = spacy.load('en_core_web_sm')\n",
    "#doc = nlp(u'I was reading the paper')\n",
    "doc = nlp(unicode(sentence[0]))\n",
    "\n",
    "options = {'compact': True, 'color': 'blue'}\n",
    "displacy.serve(doc, style='dep', options=options)\n",
    "\n",
    "#print and visualize the result\n",
    "for token in doc:\n",
    "    print(token.text, token.lemma_, token.pos_, token.tag_, token.dep_,\n",
    "          token.shape_, token.is_alpha, token.is_stop)\n",
    "    \n",
    "#displacy.serve(doc, style='dep')\n"
   ]
  }
 ],
 "metadata": {
  "kernelspec": {
   "display_name": "Python 3",
   "language": "python",
   "name": "python3"
  },
  "language_info": {
   "codemirror_mode": {
    "name": "ipython",
    "version": 2
   },
   "file_extension": ".py",
   "mimetype": "text/x-python",
   "name": "python",
   "nbconvert_exporter": "python",
   "pygments_lexer": "ipython2",
   "version": "2.7.12"
  }
 },
 "nbformat": 4,
 "nbformat_minor": 2
}
